{
 "cells": [
  {
   "cell_type": "code",
   "execution_count": 4,
   "id": "15170bb5",
   "metadata": {},
   "outputs": [
    {
     "name": "stdout",
     "output_type": "stream",
     "text": [
      "+1\n",
      "2.5 [1, 2] [3, 4]\n",
      "+1\n",
      "1.5 [1] [2]\n",
      "+1\n",
      "+1\n",
      "+1\n",
      "3.5 [3] [4]\n",
      "+1\n",
      "+1\n"
     ]
    },
    {
     "data": {
      "text/plain": [
       "[1, 2, 3, 4]"
      ]
     },
     "execution_count": 4,
     "metadata": {},
     "output_type": "execute_result"
    }
   ],
   "source": [
    "s = [3,1,2,4]\n",
    "def quick(S):\n",
    "    print('+1')\n",
    "    ns = len(S)\n",
    "    if len(S) <= 1:\n",
    "        return S\n",
    "    else:\n",
    "        y = 1/ns*sum(S)\n",
    "        S_L = []\n",
    "        S_R = []\n",
    "        for i in S:\n",
    "            if i < y:\n",
    "                S_L.append(i)\n",
    "            else:\n",
    "                S_R.append(i)\n",
    "        print(y,S_L, S_R)\n",
    "        return quick(S_L) + quick(S_R)\n",
    "quick(s)"
   ]
  },
  {
   "cell_type": "markdown",
   "id": "de899f87",
   "metadata": {},
   "source": []
  }
 ],
 "metadata": {
  "kernelspec": {
   "display_name": "Python 3",
   "language": "python",
   "name": "python3"
  },
  "language_info": {
   "codemirror_mode": {
    "name": "ipython",
    "version": 3
   },
   "file_extension": ".py",
   "mimetype": "text/x-python",
   "name": "python",
   "nbconvert_exporter": "python",
   "pygments_lexer": "ipython3",
   "version": "3.6.15"
  }
 },
 "nbformat": 4,
 "nbformat_minor": 5
}
