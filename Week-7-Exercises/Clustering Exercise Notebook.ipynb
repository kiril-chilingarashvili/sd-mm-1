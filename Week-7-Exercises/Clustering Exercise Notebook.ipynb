{
 "cells": [
  {
   "cell_type": "markdown",
   "metadata": {
    "nbgrader": {
     "grade": false,
     "grade_id": "1",
     "locked": true,
     "schema_version": 1,
     "solution": false
    }
   },
   "source": [
    "<p style=\"font-family: Arial; font-size:3.75vw;color:purple; font-style:bold\"><br>\n",
    "Clustering Exercise Notebook\n",
    "</p><br>"
   ]
  },
  {
   "cell_type": "markdown",
   "metadata": {
    "nbgrader": {
     "grade": false,
     "grade_id": "c2",
     "locked": true,
     "schema_version": 1,
     "solution": false
    }
   },
   "source": [
    "# Exercise Notebook Instructions\n",
    "\n",
    "### 1. Important: Only modify the cells which instruct you to modify them - leave \"do not modify\" cells alone.  \n",
    "\n",
    "The code which tests your responses assumes you have run the startup/read-only code exactly.\n",
    "\n",
    "### 2. Work through the notebook in order.\n",
    "\n",
    "Some of the steps depend on previous, so you'll want to move through the notebook in order.\n",
    "\n",
    "### 3. It is okay to use numpy libraries.\n",
    "\n",
    "You may find some of these questions are fairly straightforward to answer using built-in numpy functions.  That's totally okay - part of the point of these exercises is to familiarize you with the commonly used numpy functions.\n",
    "\n",
    "### 4. Seek help if stuck\n",
    "\n",
    "If you get stuck, don't worry!  You can either review the videos/notebooks from this week, ask in the course forums, or look to the solutions for the correct answer.  BUT, be careful about looking to the solutions too quickly.  Struggling to get the right answer is an important part of the learning process."
   ]
  },
  {
   "cell_type": "code",
   "execution_count": 1,
   "metadata": {
    "nbgrader": {
     "grade": false,
     "grade_id": "c3",
     "locked": true,
     "schema_version": 1,
     "solution": false
    }
   },
   "outputs": [],
   "source": [
    "# DO NOT MODIFY\n",
    "\n",
    "# import appropriate libraries\n",
    "\n",
    "from sklearn.preprocessing import StandardScaler\n",
    "from sklearn.cluster import KMeans\n",
    "import pandas as pd\n",
    "import numpy as np"
   ]
  },
  {
   "cell_type": "code",
   "execution_count": 10,
   "metadata": {
    "nbgrader": {
     "grade": false,
     "grade_id": "c2c",
     "locked": true,
     "schema_version": 1,
     "solution": false
    }
   },
   "outputs": [],
   "source": [
    "# DO NOT MODIFY\n",
    "\n",
    "# We will use the minute weather dataset for this exercise.\n",
    "\n",
    "def get_data():\n",
    "    return pd.read_csv('../Week-7-MachineLearning/weather/minute_weather.csv')\n",
    "\n",
    "df = get_data()"
   ]
  },
  {
   "cell_type": "code",
   "execution_count": 15,
   "metadata": {},
   "outputs": [
    {
     "data": {
      "text/html": [
       "<div>\n",
       "<style scoped>\n",
       "    .dataframe tbody tr th:only-of-type {\n",
       "        vertical-align: middle;\n",
       "    }\n",
       "\n",
       "    .dataframe tbody tr th {\n",
       "        vertical-align: top;\n",
       "    }\n",
       "\n",
       "    .dataframe thead th {\n",
       "        text-align: right;\n",
       "    }\n",
       "</style>\n",
       "<table border=\"1\" class=\"dataframe\">\n",
       "  <thead>\n",
       "    <tr style=\"text-align: right;\">\n",
       "      <th></th>\n",
       "      <th>rowID</th>\n",
       "      <th>hpwren_timestamp</th>\n",
       "      <th>air_pressure</th>\n",
       "      <th>air_temp</th>\n",
       "      <th>avg_wind_direction</th>\n",
       "      <th>avg_wind_speed</th>\n",
       "      <th>max_wind_direction</th>\n",
       "      <th>max_wind_speed</th>\n",
       "      <th>min_wind_direction</th>\n",
       "      <th>min_wind_speed</th>\n",
       "      <th>rain_accumulation</th>\n",
       "      <th>rain_duration</th>\n",
       "      <th>relative_humidity</th>\n",
       "    </tr>\n",
       "  </thead>\n",
       "  <tbody>\n",
       "  </tbody>\n",
       "</table>\n",
       "</div>"
      ],
      "text/plain": [
       "Empty DataFrame\n",
       "Columns: [rowID, hpwren_timestamp, air_pressure, air_temp, avg_wind_direction, avg_wind_speed, max_wind_direction, max_wind_speed, min_wind_direction, min_wind_speed, rain_accumulation, rain_duration, relative_humidity]\n",
       "Index: []"
      ]
     },
     "execution_count": 15,
     "metadata": {},
     "output_type": "execute_result"
    }
   ],
   "source": [
    "df[df.index != df['rowID']]"
   ]
  },
  {
   "cell_type": "markdown",
   "metadata": {
    "nbgrader": {
     "grade": false,
     "grade_id": "c445c",
     "locked": true,
     "schema_version": 1,
     "solution": false
    }
   },
   "source": [
    "<p style=\"font-family: Arial; font-size:2.75vw;color:purple; font-style:bold\"><br>\n",
    "\n",
    "Exercise 1: Sampling Down a Time Series Dataset<br><br></p>\n",
    "\n",
    "\n",
    "In the cell below, modify the function to RETURN a new dataframe that is \n",
    "sampled down by taking every k row only. For example, if k = 5, the \n",
    "function will take every 5th row and skip rows in between.\n",
    "\n",
    "The inputs to function are a dataframe and an integer k."
   ]
  },
  {
   "cell_type": "code",
   "execution_count": 20,
   "metadata": {
    "nbgrader": {
     "grade": false,
     "grade_id": "c555",
     "locked": false,
     "schema_version": 1,
     "solution": true
    }
   },
   "outputs": [],
   "source": [
    "# modify this cell\n",
    "\n",
    "def down_sample(df, k):\n",
    "    ### BEGIN SOLUTION\n",
    "    return df[df['rowID'] % k == 0]\n",
    "    ### END SOLUTION"
   ]
  },
  {
   "cell_type": "code",
   "execution_count": 21,
   "metadata": {
    "nbgrader": {
     "grade": true,
     "grade_id": "ex15",
     "locked": true,
     "points": 1,
     "schema_version": 1,
     "solution": false
    }
   },
   "outputs": [],
   "source": [
    "# DO NOT MODIFY\n",
    "ans = 15873\n",
    "\n",
    "try:\n",
    "    sampled_df = down_sample(df, 100)\n",
    "    assert np.alltrue(sampled_df.shape[0] == ans)\n",
    "except AssertionError as e: print(\"Try again, your output did not match the expected answer above\")"
   ]
  },
  {
   "cell_type": "markdown",
   "metadata": {
    "nbgrader": {
     "grade": false,
     "grade_id": "cc445",
     "locked": true,
     "schema_version": 1,
     "solution": false
    }
   },
   "source": [
    "<p style=\"font-family: Arial; font-size:2.75vw;color:purple; font-style:bold\"><br>\n",
    "\n",
    "Exercise 2: Data Cleaning<br><br></p>\n",
    "\n",
    "\n",
    "In the cell below, modify the function to do following tasks and RETURN a new data frame: (do not modify the input dataframe) <br><br>\n",
    "\n",
    "- delete column 'rain_accumulation'\n",
    "- delete column 'rain_duration'\n",
    "- delete rows that contain atleast one NULL"
   ]
  },
  {
   "cell_type": "code",
   "execution_count": 24,
   "metadata": {
    "nbgrader": {
     "grade": false,
     "grade_id": "5551",
     "locked": false,
     "schema_version": 1,
     "solution": true
    }
   },
   "outputs": [],
   "source": [
    "# modify this cell\n",
    "\n",
    "def clean_data(df):\n",
    "    ### BEGIN SOLUTION\n",
    "    dfc = df.copy()\n",
    "    del dfc['rain_accumulation']\n",
    "    del dfc['rain_duration']\n",
    "    return dfc.dropna()\n",
    "    ### END SOLUTION"
   ]
  },
  {
   "cell_type": "code",
   "execution_count": 25,
   "metadata": {
    "nbgrader": {
     "grade": true,
     "grade_id": "ex151",
     "locked": true,
     "points": 1,
     "schema_version": 1,
     "solution": false
    }
   },
   "outputs": [],
   "source": [
    "# DO NOT MODIFY\n",
    "\n",
    "try: \n",
    "    cleaned_df = clean_data(sampled_df)\n",
    "    assert np.alltrue(sampled_df.shape == (15873, 13))\n",
    "    assert np.alltrue(cleaned_df.shape == (15870, 11))\n",
    "except AssertionError as e: print(\"Try again ! Check both  clean_data and down_sample functions\")"
   ]
  },
  {
   "cell_type": "code",
   "execution_count": 26,
   "metadata": {},
   "outputs": [
    {
     "data": {
      "text/html": [
       "<div>\n",
       "<style scoped>\n",
       "    .dataframe tbody tr th:only-of-type {\n",
       "        vertical-align: middle;\n",
       "    }\n",
       "\n",
       "    .dataframe tbody tr th {\n",
       "        vertical-align: top;\n",
       "    }\n",
       "\n",
       "    .dataframe thead th {\n",
       "        text-align: right;\n",
       "    }\n",
       "</style>\n",
       "<table border=\"1\" class=\"dataframe\">\n",
       "  <thead>\n",
       "    <tr style=\"text-align: right;\">\n",
       "      <th></th>\n",
       "      <th>rowID</th>\n",
       "      <th>air_pressure</th>\n",
       "      <th>air_temp</th>\n",
       "      <th>avg_wind_direction</th>\n",
       "      <th>avg_wind_speed</th>\n",
       "      <th>max_wind_direction</th>\n",
       "      <th>max_wind_speed</th>\n",
       "      <th>min_wind_direction</th>\n",
       "      <th>min_wind_speed</th>\n",
       "      <th>relative_humidity</th>\n",
       "    </tr>\n",
       "  </thead>\n",
       "  <tbody>\n",
       "    <tr>\n",
       "      <th>count</th>\n",
       "      <td>1.587000e+04</td>\n",
       "      <td>15870.000000</td>\n",
       "      <td>15870.000000</td>\n",
       "      <td>15870.000000</td>\n",
       "      <td>15870.000000</td>\n",
       "      <td>15870.000000</td>\n",
       "      <td>15870.000000</td>\n",
       "      <td>15870.000000</td>\n",
       "      <td>15870.000000</td>\n",
       "      <td>15870.000000</td>\n",
       "    </tr>\n",
       "    <tr>\n",
       "      <th>mean</th>\n",
       "      <td>7.936240e+05</td>\n",
       "      <td>916.829464</td>\n",
       "      <td>61.857384</td>\n",
       "      <td>161.287524</td>\n",
       "      <td>2.792804</td>\n",
       "      <td>162.700945</td>\n",
       "      <td>3.414625</td>\n",
       "      <td>166.644297</td>\n",
       "      <td>2.152268</td>\n",
       "      <td>47.591084</td>\n",
       "    </tr>\n",
       "    <tr>\n",
       "      <th>std</th>\n",
       "      <td>4.582191e+05</td>\n",
       "      <td>3.051662</td>\n",
       "      <td>11.834858</td>\n",
       "      <td>95.313161</td>\n",
       "      <td>2.070506</td>\n",
       "      <td>92.269601</td>\n",
       "      <td>2.428906</td>\n",
       "      <td>97.824836</td>\n",
       "      <td>1.758114</td>\n",
       "      <td>26.189680</td>\n",
       "    </tr>\n",
       "    <tr>\n",
       "      <th>min</th>\n",
       "      <td>0.000000e+00</td>\n",
       "      <td>905.100000</td>\n",
       "      <td>32.360000</td>\n",
       "      <td>0.000000</td>\n",
       "      <td>0.100000</td>\n",
       "      <td>0.000000</td>\n",
       "      <td>0.100000</td>\n",
       "      <td>0.000000</td>\n",
       "      <td>0.000000</td>\n",
       "      <td>1.500000</td>\n",
       "    </tr>\n",
       "    <tr>\n",
       "      <th>25%</th>\n",
       "      <td>3.968250e+05</td>\n",
       "      <td>914.800000</td>\n",
       "      <td>52.700000</td>\n",
       "      <td>61.000000</td>\n",
       "      <td>1.300000</td>\n",
       "      <td>68.000000</td>\n",
       "      <td>1.600000</td>\n",
       "      <td>75.000000</td>\n",
       "      <td>0.800000</td>\n",
       "      <td>24.700000</td>\n",
       "    </tr>\n",
       "    <tr>\n",
       "      <th>50%</th>\n",
       "      <td>7.936500e+05</td>\n",
       "      <td>916.700000</td>\n",
       "      <td>62.420000</td>\n",
       "      <td>182.000000</td>\n",
       "      <td>2.200000</td>\n",
       "      <td>186.000000</td>\n",
       "      <td>2.800000</td>\n",
       "      <td>180.000000</td>\n",
       "      <td>1.700000</td>\n",
       "      <td>44.600000</td>\n",
       "    </tr>\n",
       "    <tr>\n",
       "      <th>75%</th>\n",
       "      <td>1.190375e+06</td>\n",
       "      <td>918.700000</td>\n",
       "      <td>70.880000</td>\n",
       "      <td>217.000000</td>\n",
       "      <td>3.800000</td>\n",
       "      <td>223.000000</td>\n",
       "      <td>4.600000</td>\n",
       "      <td>212.000000</td>\n",
       "      <td>3.000000</td>\n",
       "      <td>67.900000</td>\n",
       "    </tr>\n",
       "    <tr>\n",
       "      <th>max</th>\n",
       "      <td>1.587200e+06</td>\n",
       "      <td>929.400000</td>\n",
       "      <td>96.440000</td>\n",
       "      <td>359.000000</td>\n",
       "      <td>20.100000</td>\n",
       "      <td>359.000000</td>\n",
       "      <td>20.900000</td>\n",
       "      <td>359.000000</td>\n",
       "      <td>19.500000</td>\n",
       "      <td>92.900000</td>\n",
       "    </tr>\n",
       "  </tbody>\n",
       "</table>\n",
       "</div>"
      ],
      "text/plain": [
       "              rowID  air_pressure      air_temp  avg_wind_direction  \\\n",
       "count  1.587000e+04  15870.000000  15870.000000        15870.000000   \n",
       "mean   7.936240e+05    916.829464     61.857384          161.287524   \n",
       "std    4.582191e+05      3.051662     11.834858           95.313161   \n",
       "min    0.000000e+00    905.100000     32.360000            0.000000   \n",
       "25%    3.968250e+05    914.800000     52.700000           61.000000   \n",
       "50%    7.936500e+05    916.700000     62.420000          182.000000   \n",
       "75%    1.190375e+06    918.700000     70.880000          217.000000   \n",
       "max    1.587200e+06    929.400000     96.440000          359.000000   \n",
       "\n",
       "       avg_wind_speed  max_wind_direction  max_wind_speed  min_wind_direction  \\\n",
       "count    15870.000000        15870.000000    15870.000000        15870.000000   \n",
       "mean         2.792804          162.700945        3.414625          166.644297   \n",
       "std          2.070506           92.269601        2.428906           97.824836   \n",
       "min          0.100000            0.000000        0.100000            0.000000   \n",
       "25%          1.300000           68.000000        1.600000           75.000000   \n",
       "50%          2.200000          186.000000        2.800000          180.000000   \n",
       "75%          3.800000          223.000000        4.600000          212.000000   \n",
       "max         20.100000          359.000000       20.900000          359.000000   \n",
       "\n",
       "       min_wind_speed  relative_humidity  \n",
       "count    15870.000000       15870.000000  \n",
       "mean         2.152268          47.591084  \n",
       "std          1.758114          26.189680  \n",
       "min          0.000000           1.500000  \n",
       "25%          0.800000          24.700000  \n",
       "50%          1.700000          44.600000  \n",
       "75%          3.000000          67.900000  \n",
       "max         19.500000          92.900000  "
      ]
     },
     "execution_count": 26,
     "metadata": {},
     "output_type": "execute_result"
    }
   ],
   "source": [
    "cleaned_df.describe()"
   ]
  },
  {
   "cell_type": "markdown",
   "metadata": {
    "nbgrader": {
     "grade": false,
     "grade_id": "cccc445",
     "locked": true,
     "schema_version": 1,
     "solution": false
    }
   },
   "source": [
    "<p style=\"font-family: Arial; font-size:2.75vw;color:purple; font-style:bold\"><br>\n",
    "\n",
    "Exercise 3: Perform Scaling of input data<br><br></p>\n",
    "\n",
    "In the cell below, modify the function that takes three inputs: a dataframe D, a list of features F\n",
    "<br>\n",
    "The function should do the following:\n",
    "<br>\n",
    "- Pick out columns corresponding to features F from dataframe D\n",
    "- Use StandardScaler to perform scaling and return the scaled data frame"
   ]
  },
  {
   "cell_type": "code",
   "execution_count": 42,
   "metadata": {
    "nbgrader": {
     "grade": false,
     "grade_id": "c5552",
     "locked": false,
     "schema_version": 1,
     "solution": true
    }
   },
   "outputs": [
    {
     "data": {
      "text/html": [
       "<div>\n",
       "<style scoped>\n",
       "    .dataframe tbody tr th:only-of-type {\n",
       "        vertical-align: middle;\n",
       "    }\n",
       "\n",
       "    .dataframe tbody tr th {\n",
       "        vertical-align: top;\n",
       "    }\n",
       "\n",
       "    .dataframe thead th {\n",
       "        text-align: right;\n",
       "    }\n",
       "</style>\n",
       "<table border=\"1\" class=\"dataframe\">\n",
       "  <thead>\n",
       "    <tr style=\"text-align: right;\">\n",
       "      <th></th>\n",
       "      <th>air_pressure</th>\n",
       "      <th>air_temp</th>\n",
       "      <th>relative_humidity</th>\n",
       "    </tr>\n",
       "  </thead>\n",
       "  <tbody>\n",
       "    <tr>\n",
       "      <th>0</th>\n",
       "      <td>-1.484308</td>\n",
       "      <td>0.245268</td>\n",
       "      <td>0.492916</td>\n",
       "    </tr>\n",
       "    <tr>\n",
       "      <th>1</th>\n",
       "      <td>-1.648159</td>\n",
       "      <td>0.093170</td>\n",
       "      <td>0.622743</td>\n",
       "    </tr>\n",
       "    <tr>\n",
       "      <th>2</th>\n",
       "      <td>-1.779239</td>\n",
       "      <td>0.519044</td>\n",
       "      <td>-0.541875</td>\n",
       "    </tr>\n",
       "    <tr>\n",
       "      <th>3</th>\n",
       "      <td>-1.779239</td>\n",
       "      <td>0.199638</td>\n",
       "      <td>0.405093</td>\n",
       "    </tr>\n",
       "    <tr>\n",
       "      <th>4</th>\n",
       "      <td>-1.517078</td>\n",
       "      <td>-0.773788</td>\n",
       "      <td>1.611713</td>\n",
       "    </tr>\n",
       "    <tr>\n",
       "      <th>...</th>\n",
       "      <td>...</td>\n",
       "      <td>...</td>\n",
       "      <td>...</td>\n",
       "    </tr>\n",
       "    <tr>\n",
       "      <th>15865</th>\n",
       "      <td>-0.828907</td>\n",
       "      <td>1.294743</td>\n",
       "      <td>-0.167670</td>\n",
       "    </tr>\n",
       "    <tr>\n",
       "      <th>15866</th>\n",
       "      <td>-0.796137</td>\n",
       "      <td>1.279533</td>\n",
       "      <td>-0.182944</td>\n",
       "    </tr>\n",
       "    <tr>\n",
       "      <th>15867</th>\n",
       "      <td>-0.632287</td>\n",
       "      <td>1.188274</td>\n",
       "      <td>-0.140941</td>\n",
       "    </tr>\n",
       "    <tr>\n",
       "      <th>15868</th>\n",
       "      <td>-0.370126</td>\n",
       "      <td>1.142645</td>\n",
       "      <td>-0.034025</td>\n",
       "    </tr>\n",
       "    <tr>\n",
       "      <th>15869</th>\n",
       "      <td>-0.304586</td>\n",
       "      <td>1.173065</td>\n",
       "      <td>0.007977</td>\n",
       "    </tr>\n",
       "  </tbody>\n",
       "</table>\n",
       "<p>15870 rows × 3 columns</p>\n",
       "</div>"
      ],
      "text/plain": [
       "       air_pressure  air_temp  relative_humidity\n",
       "0         -1.484308  0.245268           0.492916\n",
       "1         -1.648159  0.093170           0.622743\n",
       "2         -1.779239  0.519044          -0.541875\n",
       "3         -1.779239  0.199638           0.405093\n",
       "4         -1.517078 -0.773788           1.611713\n",
       "...             ...       ...                ...\n",
       "15865     -0.828907  1.294743          -0.167670\n",
       "15866     -0.796137  1.279533          -0.182944\n",
       "15867     -0.632287  1.188274          -0.140941\n",
       "15868     -0.370126  1.142645          -0.034025\n",
       "15869     -0.304586  1.173065           0.007977\n",
       "\n",
       "[15870 rows x 3 columns]"
      ]
     },
     "execution_count": 42,
     "metadata": {},
     "output_type": "execute_result"
    }
   ],
   "source": [
    "# modify this cell\n",
    "from sklearn.preprocessing import StandardScaler\n",
    "def scale_task(D, F):\n",
    "    ### BEGIN SOLUTION\n",
    "    df_copy = D.copy()\n",
    "    df_copy = df_copy[F]\n",
    "    X = StandardScaler().fit_transform(df_copy)  \n",
    "    return pd.DataFrame(X, columns=df_copy.columns)\n",
    "    ### END SOLUTION\n",
    "scale_task(cleaned_df, features)"
   ]
  },
  {
   "cell_type": "code",
   "execution_count": 43,
   "metadata": {
    "nbgrader": {
     "grade": true,
     "grade_id": "ex152",
     "locked": true,
     "points": 1,
     "schema_version": 1,
     "solution": false
    }
   },
   "outputs": [],
   "source": [
    "# DO NOT MODIFY\n",
    "\n",
    "try: \n",
    "    features = ['air_pressure', 'air_temp', 'relative_humidity']\n",
    "    scaled_data = scale_task(cleaned_df, features)\n",
    "    assert np.allclose(scaled_data.mean(axis=0), 0)\n",
    "    assert np.allclose(scaled_data.std(axis=0),1, atol=1e-04)\n",
    "except AssertionError as e: print(\"Try again, your solution did not produce the expected output above\")"
   ]
  },
  {
   "cell_type": "markdown",
   "metadata": {
    "nbgrader": {
     "grade": false,
     "grade_id": "cv445",
     "locked": true,
     "schema_version": 1,
     "solution": false
    }
   },
   "source": [
    "<p style=\"font-family: Arial; font-size:2.75vw;color:purple; font-style:bold\"><br>\n",
    "\n",
    "Exercise 4: Perform Clustering<br><br></p>\n",
    "\n",
    "In the cell below, modify the function that takes two inputs: a dataframe D (already scaled using your previous function), and an integer for # of clusters to create N.\n",
    "<br>\n",
    "The function should do the following:\n",
    "<br>\n",
    "- Perform clustering using your algorithm of choice\n",
    "- Create N clusters\n",
    "- Return a **dataframe** of N rows, where each row is a cluster center."
   ]
  },
  {
   "cell_type": "code",
   "execution_count": 44,
   "metadata": {
    "nbgrader": {
     "grade": false,
     "grade_id": "c5553",
     "locked": false,
     "schema_version": 1,
     "solution": true
    }
   },
   "outputs": [
    {
     "data": {
      "text/html": [
       "<div>\n",
       "<style scoped>\n",
       "    .dataframe tbody tr th:only-of-type {\n",
       "        vertical-align: middle;\n",
       "    }\n",
       "\n",
       "    .dataframe tbody tr th {\n",
       "        vertical-align: top;\n",
       "    }\n",
       "\n",
       "    .dataframe thead th {\n",
       "        text-align: right;\n",
       "    }\n",
       "</style>\n",
       "<table border=\"1\" class=\"dataframe\">\n",
       "  <thead>\n",
       "    <tr style=\"text-align: right;\">\n",
       "      <th></th>\n",
       "      <th>air_pressure</th>\n",
       "      <th>air_temp</th>\n",
       "      <th>relative_humidity</th>\n",
       "    </tr>\n",
       "  </thead>\n",
       "  <tbody>\n",
       "    <tr>\n",
       "      <th>0</th>\n",
       "      <td>-0.449324</td>\n",
       "      <td>-0.971650</td>\n",
       "      <td>1.128254</td>\n",
       "    </tr>\n",
       "    <tr>\n",
       "      <th>1</th>\n",
       "      <td>-0.293894</td>\n",
       "      <td>0.837704</td>\n",
       "      <td>-0.433881</td>\n",
       "    </tr>\n",
       "    <tr>\n",
       "      <th>2</th>\n",
       "      <td>1.171305</td>\n",
       "      <td>-0.091323</td>\n",
       "      <td>-0.853773</td>\n",
       "    </tr>\n",
       "  </tbody>\n",
       "</table>\n",
       "</div>"
      ],
      "text/plain": [
       "   air_pressure  air_temp  relative_humidity\n",
       "0     -0.449324 -0.971650           1.128254\n",
       "1     -0.293894  0.837704          -0.433881\n",
       "2      1.171305 -0.091323          -0.853773"
      ]
     },
     "execution_count": 44,
     "metadata": {},
     "output_type": "execute_result"
    }
   ],
   "source": [
    "# modify this cell\n",
    "\n",
    "def clustering_task(D, N):\n",
    "    ### BEGIN SOLUTION\n",
    "    kmeans = KMeans(n_clusters=N)\n",
    "    model = kmeans.fit(D)\n",
    "    return pd.DataFrame(model.cluster_centers_, columns=D.columns)\n",
    "    ### END SOLUTION\n",
    "clustering_task(scaled_data, 3)"
   ]
  },
  {
   "cell_type": "code",
   "execution_count": 45,
   "metadata": {
    "nbgrader": {
     "grade": true,
     "grade_id": "ex153",
     "locked": true,
     "points": 1,
     "schema_version": 1,
     "solution": false
    }
   },
   "outputs": [
    {
     "name": "stdout",
     "output_type": "stream",
     "text": [
      "----------------------------------------\n",
      "       air_pressure  air_temp  relative_humidity\n",
      "count      3.000000  3.000000           3.000000\n",
      "mean       0.137613 -0.071451          -0.051707\n",
      "std        0.890683  0.905689           1.044045\n",
      "min       -0.448032 -0.972813          -0.853996\n",
      "25%       -0.374886 -0.526429          -0.641920\n",
      "50%       -0.301741 -0.080045          -0.429843\n",
      "75%        0.430435  0.379230           0.349438\n",
      "max        1.162612  0.838504           1.128719\n"
     ]
    }
   ],
   "source": [
    "# DO NOT MODIFY\n",
    "\n",
    "try: \n",
    "    ct = clustering_task(scaled_data, 3)\n",
    "    assert np.alltrue(ct.shape == (3, 3))\n",
    "except AssertionError as e: print(\"Keep trying - ensure all previous functions also work correctly \")\n",
    "\n",
    "try:\n",
    "    print(40*'-')\n",
    "    print(ct.describe())\n",
    "except AssertionError as e: print(\"Ensure clustering_task returns a Pandas dataframe\")"
   ]
  },
  {
   "cell_type": "markdown",
   "metadata": {},
   "source": []
  }
 ],
 "metadata": {
  "celltoolbar": "Create Assignment",
  "kernelspec": {
   "display_name": "Python 3",
   "language": "python",
   "name": "python3"
  },
  "language_info": {
   "codemirror_mode": {
    "name": "ipython",
    "version": 3
   },
   "file_extension": ".py",
   "mimetype": "text/x-python",
   "name": "python",
   "nbconvert_exporter": "python",
   "pygments_lexer": "ipython3",
   "version": "3.8.8"
  }
 },
 "nbformat": 4,
 "nbformat_minor": 4
}
