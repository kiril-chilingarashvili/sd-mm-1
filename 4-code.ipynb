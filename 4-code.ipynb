{
 "cells": [
  {
   "cell_type": "code",
   "execution_count": 5,
   "id": "ae066f48",
   "metadata": {},
   "outputs": [
    {
     "data": {
      "text/plain": [
       "(   1a  2  3\n",
       " 0   1  2  3\n",
       " 1   2  3  4\n",
       " 2  33  4  5,\n",
       " 6.333333333333333,\n",
       " 6.333333333333333)"
      ]
     },
     "execution_count": 5,
     "metadata": {},
     "output_type": "execute_result"
    }
   ],
   "source": [
    "import pandas as pd\n",
    "import numpy as np\n",
    "df = pd.DataFrame({\"1a\": [1, 2, 33],\n",
    "                   \"2\": [2, 3, 4],\n",
    "                   \"3\": [3, 4, 5]})\n",
    "df, np.mean(df.mean(axis = 1)), np.mean(df.mean(axis = 0))"
   ]
  },
  {
   "cell_type": "code",
   "execution_count": 9,
   "id": "c24336e9",
   "metadata": {},
   "outputs": [
    {
     "data": {
      "text/plain": [
       "0    T\n",
       "1    W\n",
       "2    P\n",
       "Name: Ocupation, dtype: object"
      ]
     },
     "execution_count": 9,
     "metadata": {},
     "output_type": "execute_result"
    }
   ],
   "source": [
    "import pandas as pd\n",
    "df = pd.DataFrame({\"Name\": [\"Jim\", \"Larry\", \"Sam\"],\n",
    "                   \"Ocupation\": [\"Teacher\", \"Web Developer\", \"Programmer\"],\n",
    "                   \"Date of Birth\": [\"(1988)\", \"(1989)\", \"(1990)\"]})\n",
    "df\n",
    "df[\"Ocupation\"].str[0]"
   ]
  },
  {
   "cell_type": "code",
   "execution_count": 31,
   "id": "8275da24",
   "metadata": {},
   "outputs": [
    {
     "data": {
      "text/plain": [
       "(   1a   2s   3d\n",
       " 0   2  2.0  NaN\n",
       " 1   3  NaN  2.0\n",
       " 2   4  4.0  4.0\n",
       " 3   5  4.0  5.0,\n",
       "    1a\n",
       " 0   2\n",
       " 1   3\n",
       " 2   4\n",
       " 3   5)"
      ]
     },
     "execution_count": 31,
     "metadata": {},
     "output_type": "execute_result"
    }
   ],
   "source": [
    "import pandas as pd\n",
    "import numpy as np\n",
    "df = pd.DataFrame({\"1a\": [2, 3, 4, 5],\n",
    "                   \"2s\": [2, None, 4, 4],\n",
    "                   \"3d\": [None, 2, 4, 5]})\n",
    "df,df.mean(axis = 1, skipna=False), np.mean(df.mean(axis = 1, skipna=False))\n",
    "df, df.dropna(axis = 1)\n"
   ]
  },
  {
   "cell_type": "code",
   "execution_count": 37,
   "id": "b1e742ee",
   "metadata": {},
   "outputs": [
    {
     "data": {
      "text/plain": [
       "0    1988\n",
       "1    1989\n",
       "2    1990\n",
       "Name: Date of Birth, dtype: object"
      ]
     },
     "execution_count": 37,
     "metadata": {},
     "output_type": "execute_result"
    }
   ],
   "source": [
    "import pandas as pd\n",
    "df = pd.DataFrame({\"Name\": [\"Jim\", \"Larry\", \"Sam\"],\n",
    "                   \"Ocupation\": [\"Teacher\", \"Web Developer\", \"Programmer\"],\n",
    "                   \"Date of Birth\": [\"(1988)\", \"(1989)\", \"(1990)\"]})\n",
    "df\n",
    "df[\"Date of Birth\"].str.replace('(', '').str.replace(')', '')"
   ]
  },
  {
   "cell_type": "code",
   "execution_count": 54,
   "id": "d34a3229",
   "metadata": {},
   "outputs": [
    {
     "data": {
      "text/plain": [
       "(0    2.0\n",
       " 1    3.0\n",
       " 2    4.0\n",
       " 3    NaN\n",
       " Name: 1s, dtype: float64,\n",
       " 1s    2.0\n",
       " 2d    2.0\n",
       " 3f    NaN\n",
       " Name: 0, dtype: float64)"
      ]
     },
     "execution_count": 54,
     "metadata": {},
     "output_type": "execute_result"
    }
   ],
   "source": [
    "import pandas as pd\n",
    "import numpy as np\n",
    "df = pd.DataFrame({\"1s\": [2, 3, 4, None],\n",
    "                   \"2d\": [2, None, 4, 4],\n",
    "                   \"3f\": [None, 2, 4, 5]})\n",
    "\n",
    "df,np.mean(df.mean(axis = 1, skipna=True))\n",
    "df.mean(axis = 1, skipna=True)\n",
    "df[\"1s\"],df.iloc[0]"
   ]
  },
  {
   "cell_type": "code",
   "execution_count": 44,
   "id": "25810103",
   "metadata": {},
   "outputs": [
    {
     "data": {
      "text/plain": [
       "red      1\n",
       "green    2\n",
       "blue     3\n",
       "dtype: int64"
      ]
     },
     "execution_count": 44,
     "metadata": {},
     "output_type": "execute_result"
    }
   ],
   "source": [
    "ser = pd.Series(data=[1, 2, 3], index=['red', 'green', 'blue'])\n",
    "ser"
   ]
  },
  {
   "cell_type": "code",
   "execution_count": 48,
   "id": "ec5a7361",
   "metadata": {},
   "outputs": [
    {
     "data": {
      "text/plain": [
       "2"
      ]
     },
     "execution_count": 48,
     "metadata": {},
     "output_type": "execute_result"
    }
   ],
   "source": [
    "ser.loc['green']"
   ]
  },
  {
   "cell_type": "code",
   "execution_count": null,
   "id": "c8f7fd2e",
   "metadata": {},
   "outputs": [],
   "source": [
    "pd.DataFrame()\n",
    "# ndarray (structured or homogeneous), Iterable, dict, or DataFrame\n",
    "#    Dict can contain Series, arrays, constants, or list-like objects."
   ]
  }
 ],
 "metadata": {
  "kernelspec": {
   "display_name": "Python 3",
   "language": "python",
   "name": "python3"
  },
  "language_info": {
   "codemirror_mode": {
    "name": "ipython",
    "version": 3
   },
   "file_extension": ".py",
   "mimetype": "text/x-python",
   "name": "python",
   "nbconvert_exporter": "python",
   "pygments_lexer": "ipython3",
   "version": "3.6.15"
  }
 },
 "nbformat": 4,
 "nbformat_minor": 5
}
